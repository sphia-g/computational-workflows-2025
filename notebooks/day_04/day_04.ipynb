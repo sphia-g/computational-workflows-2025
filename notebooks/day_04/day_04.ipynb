{
 "cells": [
  {
   "cell_type": "markdown",
   "metadata": {},
   "source": [
    "# Day 6 - Nextflow Basics: Introduction to channels and operators"
   ]
  },
  {
   "cell_type": "markdown",
   "metadata": {},
   "source": [
    "Today, we will begin exploring Nextflow, the programming language that powers the advanced nf-core pipelines you worked with last week. Your task is to dive into the core concepts and syntax of Nextflow, understanding how this language enables the development of scalable and reproducible workflows.\n",
    "\n",
    "Nextflow works quite differently from traditional programming languages like Python or Java that you may already be familiar with. To get started, it is essential to understand the foundational concepts that set Nextflow apart."
   ]
  },
  {
   "cell_type": "markdown",
   "metadata": {},
   "source": [
    "### 1. Describe the concept of Workflows, Processes and Channels we deal with in Nextflow"
   ]
  },
  {
   "cell_type": "markdown",
   "metadata": {},
   "source": [
    "Workflows:\n",
    "Main orchestration unit, defines data flow and execution logic.\n",
    "\n",
    "Processes:\n",
    "Independent computational task with defined inputs, outputs and execution logic\n",
    "\n",
    "Channels:\n",
    "handles data flow and communication, dta stream that carries information between processes\n",
    "- queue channels (consumed once)\n",
    "- value channels (can be read multiple times)"
   ]
  },
  {
   "cell_type": "markdown",
   "metadata": {},
   "source": [
    "## Introduction to channels\n",
    "\n",
    "Please refer to the file  $\\texttt{channels\\_intro.nf}$ for the next exercises. Then run the code with the respective flag here below. "
   ]
  },
  {
   "cell_type": "code",
   "execution_count": 1,
   "metadata": {},
   "outputs": [
    {
     "name": "stdout",
     "output_type": "stream",
     "text": [
      "\n",
      "\u001b[1m\u001b[38;5;232m\u001b[48;5;43m N E X T F L O W \u001b[0;2m  ~  \u001b[mversion 25.04.7\u001b[m\n",
      "\u001b[K\n",
      "Launching\u001b[35m `channels_intro.nf` \u001b[0;2m[\u001b[0;1;36mnauseous_yalow\u001b[0;2m] DSL2 - \u001b[36mrevision: \u001b[0;36m45d4aef035\u001b[m\n",
      "\u001b[K\n",
      "1\n",
      "2\n",
      "3\n",
      "4\n",
      "5\n",
      "6\n",
      "7\n",
      "8\n",
      "9\n",
      "10\n"
     ]
    }
   ],
   "source": [
    "# Task 1 - Create a channel that enumerates the numbers from 1 to 10\n",
    "!nextflow run channels_intro.nf --step 1"
   ]
  },
  {
   "cell_type": "code",
   "execution_count": 2,
   "metadata": {},
   "outputs": [
    {
     "name": "stdout",
     "output_type": "stream",
     "text": [
      "\n",
      "\u001b[1m\u001b[38;5;232m\u001b[48;5;43m N E X T F L O W \u001b[0;2m  ~  \u001b[mversion 25.04.7\u001b[m\n",
      "\u001b[K\n",
      "Launching\u001b[35m `channels_intro.nf` \u001b[0;2m[\u001b[0;1;36mlethal_escher\u001b[0;2m] DSL2 - \u001b[36mrevision: \u001b[0;36m5f60a2a75b\u001b[m\n",
      "\u001b[K\n",
      "a\n",
      "b\n",
      "c\n",
      "d\n",
      "e\n",
      "f\n",
      "g\n",
      "h\n",
      "i\n",
      "j\n",
      "k\n",
      "l\n",
      "m\n",
      "n\n",
      "o\n",
      "p\n",
      "q\n",
      "r\n",
      "s\n",
      "t\n",
      "u\n",
      "v\n",
      "w\n",
      "x\n",
      "y\n",
      "z\n"
     ]
    }
   ],
   "source": [
    "# Task 2 - Create a channel that gives out the entire alphabet\n",
    "!nextflow run channels_intro.nf --step 2"
   ]
  },
  {
   "cell_type": "code",
   "execution_count": 3,
   "metadata": {},
   "outputs": [
    {
     "name": "stdout",
     "output_type": "stream",
     "text": [
      "\n",
      "\u001b[1m\u001b[38;5;232m\u001b[48;5;43m N E X T F L O W \u001b[0;2m  ~  \u001b[mversion 25.04.7\u001b[m\n",
      "\u001b[K\n",
      "Launching\u001b[35m `channels_intro.nf` \u001b[0;2m[\u001b[0;1;36mshrivelled_heyrovsky\u001b[0;2m] DSL2 - \u001b[36mrevision: \u001b[0;36mf73a2ac623\u001b[m\n",
      "\u001b[K\n",
      "/Users/sophiag/Documents/Dokumente/Studium/Master/FS4/ComputationalWorkflows/computational-workflows-2025/notebooks/day_04/files_dir/SRR5_2.fq\n",
      "/Users/sophiag/Documents/Dokumente/Studium/Master/FS4/ComputationalWorkflows/computational-workflows-2025/notebooks/day_04/files_dir/fastq5_2.fq\n",
      "/Users/sophiag/Documents/Dokumente/Studium/Master/FS4/ComputationalWorkflows/computational-workflows-2025/notebooks/day_04/files_dir/file_4.txt\n",
      "/Users/sophiag/Documents/Dokumente/Studium/Master/FS4/ComputationalWorkflows/computational-workflows-2025/notebooks/day_04/files_dir/file_5.txt\n",
      "/Users/sophiag/Documents/Dokumente/Studium/Master/FS4/ComputationalWorkflows/computational-workflows-2025/notebooks/day_04/files_dir/file_1.txt\n",
      "/Users/sophiag/Documents/Dokumente/Studium/Master/FS4/ComputationalWorkflows/computational-workflows-2025/notebooks/day_04/files_dir/file_2.txt\n",
      "/Users/sophiag/Documents/Dokumente/Studium/Master/FS4/ComputationalWorkflows/computational-workflows-2025/notebooks/day_04/files_dir/fastq.fq\n",
      "/Users/sophiag/Documents/Dokumente/Studium/Master/FS4/ComputationalWorkflows/computational-workflows-2025/notebooks/day_04/files_dir/fastq4_2.fq\n",
      "/Users/sophiag/Documents/Dokumente/Studium/Master/FS4/ComputationalWorkflows/computational-workflows-2025/notebooks/day_04/files_dir/SRR4_2.fq\n",
      "/Users/sophiag/Documents/Dokumente/Studium/Master/FS4/ComputationalWorkflows/computational-workflows-2025/notebooks/day_04/files_dir/file_3.txt\n",
      "/Users/sophiag/Documents/Dokumente/Studium/Master/FS4/ComputationalWorkflows/computational-workflows-2025/notebooks/day_04/files_dir/SRR.fq\n",
      "/Users/sophiag/Documents/Dokumente/Studium/Master/FS4/ComputationalWorkflows/computational-workflows-2025/notebooks/day_04/files_dir/SRR3_2.fq\n",
      "/Users/sophiag/Documents/Dokumente/Studium/Master/FS4/ComputationalWorkflows/computational-workflows-2025/notebooks/day_04/files_dir/fastq3_2.fq\n",
      "/Users/sophiag/Documents/Dokumente/Studium/Master/FS4/ComputationalWorkflows/computational-workflows-2025/notebooks/day_04/files_dir/fastq_1.fq\n",
      "/Users/sophiag/Documents/Dokumente/Studium/Master/FS4/ComputationalWorkflows/computational-workflows-2025/notebooks/day_04/files_dir/fastq2_2.fq\n",
      "/Users/sophiag/Documents/Dokumente/Studium/Master/FS4/ComputationalWorkflows/computational-workflows-2025/notebooks/day_04/files_dir/SRR2_2.fq\n",
      "/Users/sophiag/Documents/Dokumente/Studium/Master/FS4/ComputationalWorkflows/computational-workflows-2025/notebooks/day_04/files_dir/fastq1_1.fq\n",
      "/Users/sophiag/Documents/Dokumente/Studium/Master/FS4/ComputationalWorkflows/computational-workflows-2025/notebooks/day_04/files_dir/SRR1_1.fq\n",
      "/Users/sophiag/Documents/Dokumente/Studium/Master/FS4/ComputationalWorkflows/computational-workflows-2025/notebooks/day_04/files_dir/fastq_2.fq\n",
      "/Users/sophiag/Documents/Dokumente/Studium/Master/FS4/ComputationalWorkflows/computational-workflows-2025/notebooks/day_04/files_dir/fastq2_1.fq\n",
      "/Users/sophiag/Documents/Dokumente/Studium/Master/FS4/ComputationalWorkflows/computational-workflows-2025/notebooks/day_04/files_dir/SRR2_1.fq\n",
      "/Users/sophiag/Documents/Dokumente/Studium/Master/FS4/ComputationalWorkflows/computational-workflows-2025/notebooks/day_04/files_dir/fastq1_2.fq\n",
      "/Users/sophiag/Documents/Dokumente/Studium/Master/FS4/ComputationalWorkflows/computational-workflows-2025/notebooks/day_04/files_dir/SRR1_2.fq\n",
      "/Users/sophiag/Documents/Dokumente/Studium/Master/FS4/ComputationalWorkflows/computational-workflows-2025/notebooks/day_04/files_dir/SRR3_1.fq\n",
      "/Users/sophiag/Documents/Dokumente/Studium/Master/FS4/ComputationalWorkflows/computational-workflows-2025/notebooks/day_04/files_dir/fastq3_1.fq\n",
      "/Users/sophiag/Documents/Dokumente/Studium/Master/FS4/ComputationalWorkflows/computational-workflows-2025/notebooks/day_04/files_dir/fastq4_1.fq\n",
      "/Users/sophiag/Documents/Dokumente/Studium/Master/FS4/ComputationalWorkflows/computational-workflows-2025/notebooks/day_04/files_dir/SRR4_1.fq\n",
      "/Users/sophiag/Documents/Dokumente/Studium/Master/FS4/ComputationalWorkflows/computational-workflows-2025/notebooks/day_04/files_dir/SRR5_1.fq\n",
      "/Users/sophiag/Documents/Dokumente/Studium/Master/FS4/ComputationalWorkflows/computational-workflows-2025/notebooks/day_04/files_dir/fastq5_1.fq\n"
     ]
    }
   ],
   "source": [
    "# Task 3 - Create a channel that includes all files in the \"files_dir\" directory\n",
    "!nextflow run channels_intro.nf --step 3"
   ]
  },
  {
   "cell_type": "code",
   "execution_count": 4,
   "metadata": {},
   "outputs": [
    {
     "name": "stdout",
     "output_type": "stream",
     "text": [
      "\n",
      "\u001b[1m\u001b[38;5;232m\u001b[48;5;43m N E X T F L O W \u001b[0;2m  ~  \u001b[mversion 25.04.7\u001b[m\n",
      "\u001b[K\n",
      "Launching\u001b[35m `channels_intro.nf` \u001b[0;2m[\u001b[0;1;36mpedantic_knuth\u001b[0;2m] DSL2 - \u001b[36mrevision: \u001b[0;36m61199859b3\u001b[m\n",
      "\u001b[K\n",
      "/Users/sophiag/Documents/Dokumente/Studium/Master/FS4/ComputationalWorkflows/computational-workflows-2025/notebooks/day_04/files_dir/file_4.txt\n",
      "/Users/sophiag/Documents/Dokumente/Studium/Master/FS4/ComputationalWorkflows/computational-workflows-2025/notebooks/day_04/files_dir/file_5.txt\n",
      "/Users/sophiag/Documents/Dokumente/Studium/Master/FS4/ComputationalWorkflows/computational-workflows-2025/notebooks/day_04/files_dir/file_1.txt\n",
      "/Users/sophiag/Documents/Dokumente/Studium/Master/FS4/ComputationalWorkflows/computational-workflows-2025/notebooks/day_04/files_dir/file_2.txt\n",
      "/Users/sophiag/Documents/Dokumente/Studium/Master/FS4/ComputationalWorkflows/computational-workflows-2025/notebooks/day_04/files_dir/file_3.txt\n"
     ]
    }
   ],
   "source": [
    "# Task 4 - Create a channel that includes all TXT files in the \"files_dir\" directory\n",
    "!nextflow run channels_intro.nf --step 4"
   ]
  },
  {
   "cell_type": "code",
   "execution_count": 5,
   "metadata": {},
   "outputs": [
    {
     "name": "stdout",
     "output_type": "stream",
     "text": [
      "\n",
      "\u001b[1m\u001b[38;5;232m\u001b[48;5;43m N E X T F L O W \u001b[0;2m  ~  \u001b[mversion 25.04.7\u001b[m\n",
      "\u001b[K\n",
      "Launching\u001b[35m `channels_intro.nf` \u001b[0;2m[\u001b[0;1;36mfocused_sammet\u001b[0;2m] DSL2 - \u001b[36mrevision: \u001b[0;36mf3143164f5\u001b[m\n",
      "\u001b[K\n",
      "/Users/sophiag/Documents/Dokumente/Studium/Master/FS4/ComputationalWorkflows/computational-workflows-2025/notebooks/day_04/files_dir/fastq_1.fq\n",
      "/Users/sophiag/Documents/Dokumente/Studium/Master/FS4/ComputationalWorkflows/computational-workflows-2025/notebooks/day_04/files_dir/fastq_2.fq\n"
     ]
    }
   ],
   "source": [
    "# Task 5 - Create a channel that includes the files \"fastq_1.fq\" and \"fastq_2.fq\" in the \"files_dir\" directory\n",
    "!nextflow run channels_intro.nf --step 5"
   ]
  },
  {
   "cell_type": "code",
   "execution_count": 6,
   "metadata": {},
   "outputs": [
    {
     "name": "stdout",
     "output_type": "stream",
     "text": [
      "\n",
      "\u001b[1m\u001b[38;5;232m\u001b[48;5;43m N E X T F L O W \u001b[0;2m  ~  \u001b[mversion 25.04.7\u001b[m\n",
      "\u001b[K\n",
      "Launching\u001b[35m `channels_intro.nf` \u001b[0;2m[\u001b[0;1;36msleepy_saha\u001b[0;2m] DSL2 - \u001b[36mrevision: \u001b[0;36mf8def2464c\u001b[m\n",
      "\u001b[K\n",
      "/Users/sophiag/Documents/Dokumente/Studium/Master/FS4/ComputationalWorkflows/computational-workflows-2025/notebooks/day_04/files_dir/SRR5_2.fq\n",
      "/Users/sophiag/Documents/Dokumente/Studium/Master/FS4/ComputationalWorkflows/computational-workflows-2025/notebooks/day_04/files_dir/fastq5_2.fq\n",
      "/Users/sophiag/Documents/Dokumente/Studium/Master/FS4/ComputationalWorkflows/computational-workflows-2025/notebooks/day_04/files_dir/file_4.txt\n",
      "/Users/sophiag/Documents/Dokumente/Studium/Master/FS4/ComputationalWorkflows/computational-workflows-2025/notebooks/day_04/files_dir/file_5.txt\n",
      "/Users/sophiag/Documents/Dokumente/Studium/Master/FS4/ComputationalWorkflows/computational-workflows-2025/notebooks/day_04/files_dir/file_1.txt\n",
      "/Users/sophiag/Documents/Dokumente/Studium/Master/FS4/ComputationalWorkflows/computational-workflows-2025/notebooks/day_04/files_dir/.hidden_2.txt\n",
      "/Users/sophiag/Documents/Dokumente/Studium/Master/FS4/ComputationalWorkflows/computational-workflows-2025/notebooks/day_04/files_dir/file_2.txt\n",
      "/Users/sophiag/Documents/Dokumente/Studium/Master/FS4/ComputationalWorkflows/computational-workflows-2025/notebooks/day_04/files_dir/fastq.fq\n",
      "/Users/sophiag/Documents/Dokumente/Studium/Master/FS4/ComputationalWorkflows/computational-workflows-2025/notebooks/day_04/files_dir/fastq4_2.fq\n",
      "/Users/sophiag/Documents/Dokumente/Studium/Master/FS4/ComputationalWorkflows/computational-workflows-2025/notebooks/day_04/files_dir/SRR4_2.fq\n",
      "/Users/sophiag/Documents/Dokumente/Studium/Master/FS4/ComputationalWorkflows/computational-workflows-2025/notebooks/day_04/files_dir/file_3.txt\n",
      "/Users/sophiag/Documents/Dokumente/Studium/Master/FS4/ComputationalWorkflows/computational-workflows-2025/notebooks/day_04/files_dir/.hidden_1.txt\n",
      "/Users/sophiag/Documents/Dokumente/Studium/Master/FS4/ComputationalWorkflows/computational-workflows-2025/notebooks/day_04/files_dir/SRR.fq\n",
      "/Users/sophiag/Documents/Dokumente/Studium/Master/FS4/ComputationalWorkflows/computational-workflows-2025/notebooks/day_04/files_dir/SRR3_2.fq\n",
      "/Users/sophiag/Documents/Dokumente/Studium/Master/FS4/ComputationalWorkflows/computational-workflows-2025/notebooks/day_04/files_dir/fastq3_2.fq\n",
      "/Users/sophiag/Documents/Dokumente/Studium/Master/FS4/ComputationalWorkflows/computational-workflows-2025/notebooks/day_04/files_dir/fastq_1.fq\n",
      "/Users/sophiag/Documents/Dokumente/Studium/Master/FS4/ComputationalWorkflows/computational-workflows-2025/notebooks/day_04/files_dir/fastq2_2.fq\n",
      "/Users/sophiag/Documents/Dokumente/Studium/Master/FS4/ComputationalWorkflows/computational-workflows-2025/notebooks/day_04/files_dir/SRR2_2.fq\n",
      "/Users/sophiag/Documents/Dokumente/Studium/Master/FS4/ComputationalWorkflows/computational-workflows-2025/notebooks/day_04/files_dir/fastq1_1.fq\n",
      "/Users/sophiag/Documents/Dokumente/Studium/Master/FS4/ComputationalWorkflows/computational-workflows-2025/notebooks/day_04/files_dir/SRR1_1.fq\n",
      "/Users/sophiag/Documents/Dokumente/Studium/Master/FS4/ComputationalWorkflows/computational-workflows-2025/notebooks/day_04/files_dir/fastq_2.fq\n",
      "/Users/sophiag/Documents/Dokumente/Studium/Master/FS4/ComputationalWorkflows/computational-workflows-2025/notebooks/day_04/files_dir/fastq2_1.fq\n",
      "/Users/sophiag/Documents/Dokumente/Studium/Master/FS4/ComputationalWorkflows/computational-workflows-2025/notebooks/day_04/files_dir/SRR2_1.fq\n",
      "/Users/sophiag/Documents/Dokumente/Studium/Master/FS4/ComputationalWorkflows/computational-workflows-2025/notebooks/day_04/files_dir/fastq1_2.fq\n",
      "/Users/sophiag/Documents/Dokumente/Studium/Master/FS4/ComputationalWorkflows/computational-workflows-2025/notebooks/day_04/files_dir/SRR1_2.fq\n",
      "/Users/sophiag/Documents/Dokumente/Studium/Master/FS4/ComputationalWorkflows/computational-workflows-2025/notebooks/day_04/files_dir/SRR3_1.fq\n",
      "/Users/sophiag/Documents/Dokumente/Studium/Master/FS4/ComputationalWorkflows/computational-workflows-2025/notebooks/day_04/files_dir/fastq3_1.fq\n",
      "/Users/sophiag/Documents/Dokumente/Studium/Master/FS4/ComputationalWorkflows/computational-workflows-2025/notebooks/day_04/files_dir/fastq4_1.fq\n",
      "/Users/sophiag/Documents/Dokumente/Studium/Master/FS4/ComputationalWorkflows/computational-workflows-2025/notebooks/day_04/files_dir/SRR4_1.fq\n",
      "/Users/sophiag/Documents/Dokumente/Studium/Master/FS4/ComputationalWorkflows/computational-workflows-2025/notebooks/day_04/files_dir/SRR5_1.fq\n",
      "/Users/sophiag/Documents/Dokumente/Studium/Master/FS4/ComputationalWorkflows/computational-workflows-2025/notebooks/day_04/files_dir/fastq5_1.fq\n"
     ]
    }
   ],
   "source": [
    "# Task 6 - go back to the time when you included all files. Are you sure that really ALL files are included? If not, how can you include them?\n",
    "!nextflow run channels_intro.nf --step 6"
   ]
  },
  {
   "cell_type": "code",
   "execution_count": 7,
   "metadata": {},
   "outputs": [
    {
     "name": "stdout",
     "output_type": "stream",
     "text": [
      "\n",
      "\u001b[1m\u001b[38;5;232m\u001b[48;5;43m N E X T F L O W \u001b[0;2m  ~  \u001b[mversion 25.04.7\u001b[m\n",
      "\u001b[K\n",
      "Launching\u001b[35m `channels_intro.nf` \u001b[0;2m[\u001b[0;1;36mcheesy_minsky\u001b[0;2m] DSL2 - \u001b[36mrevision: \u001b[0;36m70e163b13b\u001b[m\n",
      "\u001b[K\n",
      "[file, [/Users/sophiag/Documents/Dokumente/Studium/Master/FS4/ComputationalWorkflows/computational-workflows-2025/notebooks/day_04/files_dir/file_1.txt, /Users/sophiag/Documents/Dokumente/Studium/Master/FS4/ComputationalWorkflows/computational-workflows-2025/notebooks/day_04/files_dir/file_2.txt]]\n",
      "[fastq, [/Users/sophiag/Documents/Dokumente/Studium/Master/FS4/ComputationalWorkflows/computational-workflows-2025/notebooks/day_04/files_dir/fastq_1.fq, /Users/sophiag/Documents/Dokumente/Studium/Master/FS4/ComputationalWorkflows/computational-workflows-2025/notebooks/day_04/files_dir/fastq_2.fq]]\n",
      "[fastq2, [/Users/sophiag/Documents/Dokumente/Studium/Master/FS4/ComputationalWorkflows/computational-workflows-2025/notebooks/day_04/files_dir/fastq2_1.fq, /Users/sophiag/Documents/Dokumente/Studium/Master/FS4/ComputationalWorkflows/computational-workflows-2025/notebooks/day_04/files_dir/fastq2_2.fq]]\n",
      "[SRR2, [/Users/sophiag/Documents/Dokumente/Studium/Master/FS4/ComputationalWorkflows/computational-workflows-2025/notebooks/day_04/files_dir/SRR2_1.fq, /Users/sophiag/Documents/Dokumente/Studium/Master/FS4/ComputationalWorkflows/computational-workflows-2025/notebooks/day_04/files_dir/SRR2_2.fq]]\n",
      "[fastq1, [/Users/sophiag/Documents/Dokumente/Studium/Master/FS4/ComputationalWorkflows/computational-workflows-2025/notebooks/day_04/files_dir/fastq1_1.fq, /Users/sophiag/Documents/Dokumente/Studium/Master/FS4/ComputationalWorkflows/computational-workflows-2025/notebooks/day_04/files_dir/fastq1_2.fq]]\n",
      "[SRR1, [/Users/sophiag/Documents/Dokumente/Studium/Master/FS4/ComputationalWorkflows/computational-workflows-2025/notebooks/day_04/files_dir/SRR1_1.fq, /Users/sophiag/Documents/Dokumente/Studium/Master/FS4/ComputationalWorkflows/computational-workflows-2025/notebooks/day_04/files_dir/SRR1_2.fq]]\n",
      "[SRR3, [/Users/sophiag/Documents/Dokumente/Studium/Master/FS4/ComputationalWorkflows/computational-workflows-2025/notebooks/day_04/files_dir/SRR3_1.fq, /Users/sophiag/Documents/Dokumente/Studium/Master/FS4/ComputationalWorkflows/computational-workflows-2025/notebooks/day_04/files_dir/SRR3_2.fq]]\n",
      "[fastq3, [/Users/sophiag/Documents/Dokumente/Studium/Master/FS4/ComputationalWorkflows/computational-workflows-2025/notebooks/day_04/files_dir/fastq3_1.fq, /Users/sophiag/Documents/Dokumente/Studium/Master/FS4/ComputationalWorkflows/computational-workflows-2025/notebooks/day_04/files_dir/fastq3_2.fq]]\n",
      "[fastq4, [/Users/sophiag/Documents/Dokumente/Studium/Master/FS4/ComputationalWorkflows/computational-workflows-2025/notebooks/day_04/files_dir/fastq4_1.fq, /Users/sophiag/Documents/Dokumente/Studium/Master/FS4/ComputationalWorkflows/computational-workflows-2025/notebooks/day_04/files_dir/fastq4_2.fq]]\n",
      "[SRR4, [/Users/sophiag/Documents/Dokumente/Studium/Master/FS4/ComputationalWorkflows/computational-workflows-2025/notebooks/day_04/files_dir/SRR4_1.fq, /Users/sophiag/Documents/Dokumente/Studium/Master/FS4/ComputationalWorkflows/computational-workflows-2025/notebooks/day_04/files_dir/SRR4_2.fq]]\n",
      "[SRR5, [/Users/sophiag/Documents/Dokumente/Studium/Master/FS4/ComputationalWorkflows/computational-workflows-2025/notebooks/day_04/files_dir/SRR5_1.fq, /Users/sophiag/Documents/Dokumente/Studium/Master/FS4/ComputationalWorkflows/computational-workflows-2025/notebooks/day_04/files_dir/SRR5_2.fq]]\n",
      "[fastq5, [/Users/sophiag/Documents/Dokumente/Studium/Master/FS4/ComputationalWorkflows/computational-workflows-2025/notebooks/day_04/files_dir/fastq5_1.fq, /Users/sophiag/Documents/Dokumente/Studium/Master/FS4/ComputationalWorkflows/computational-workflows-2025/notebooks/day_04/files_dir/fastq5_2.fq]]\n"
     ]
    }
   ],
   "source": [
    "# Task 7 - get all filepairs in the \"files_dir\" directory\n",
    "!nextflow run channels_intro.nf --step 7"
   ]
  },
  {
   "cell_type": "markdown",
   "metadata": {},
   "source": [
    "## Now that you have a solid understanding of the basic concepts of channels in Nextflow, it’s time to experiment and see how they work in practice."
   ]
  },
  {
   "cell_type": "markdown",
   "metadata": {},
   "source": [
    "To do so, Nextflow has the concept of Operators to give and pass information inbetween channels.\n",
    "\n",
    "Please answer the questions in $\\texttt{basic\\_channel\\_operations.nf}$ and run the code here. "
   ]
  },
  {
   "cell_type": "code",
   "execution_count": 16,
   "metadata": {},
   "outputs": [
    {
     "name": "stdout",
     "output_type": "stream",
     "text": [
      "\n",
      "\u001b[1m\u001b[38;5;232m\u001b[48;5;43m N E X T F L O W \u001b[0;2m  ~  \u001b[mversion 25.04.7\u001b[m\n",
      "\u001b[K\n",
      "Launching\u001b[35m `basic_channel_operations.nf` \u001b[0;2m[\u001b[0;1;36mextravagant_meitner\u001b[0;2m] DSL2 - \u001b[36mrevision: \u001b[0;36m4dc11b10b7\u001b[m\n",
      "\u001b[K\n",
      "1\n"
     ]
    }
   ],
   "source": [
    "# Task 1 - Extract the first item from the channel\n",
    "!nextflow run basic_channel_operations.nf --step 1"
   ]
  },
  {
   "cell_type": "code",
   "execution_count": 9,
   "metadata": {},
   "outputs": [
    {
     "name": "stdout",
     "output_type": "stream",
     "text": [
      "\n",
      "\u001b[1m\u001b[38;5;232m\u001b[48;5;43m N E X T F L O W \u001b[0;2m  ~  \u001b[mversion 25.04.7\u001b[m\n",
      "\u001b[K\n",
      "Launching\u001b[35m `basic_channel_operations.nf` \u001b[0;2m[\u001b[0;1;36mdreamy_lattes\u001b[0;2m] DSL2 - \u001b[36mrevision: \u001b[0;36mad0bd09bb0\u001b[m\n",
      "\u001b[K\n",
      "3\n"
     ]
    }
   ],
   "source": [
    "# Task 2 - Extract the last item from the channel\n",
    "!nextflow run basic_channel_operations.nf --step 2"
   ]
  },
  {
   "cell_type": "code",
   "execution_count": 10,
   "metadata": {},
   "outputs": [
    {
     "name": "stdout",
     "output_type": "stream",
     "text": [
      "\n",
      "\u001b[1m\u001b[38;5;232m\u001b[48;5;43m N E X T F L O W \u001b[0;2m  ~  \u001b[mversion 25.04.7\u001b[m\n",
      "\u001b[K\n",
      "Launching\u001b[35m `basic_channel_operations.nf` \u001b[0;2m[\u001b[0;1;36mfabulous_dijkstra\u001b[0;2m] DSL2 - \u001b[36mrevision: \u001b[0;36m642c12c221\u001b[m\n",
      "\u001b[K\n",
      "1\n",
      "2\n"
     ]
    }
   ],
   "source": [
    "# Task 3 - Use an operator to extract the first two items from the channel\n",
    "!nextflow run basic_channel_operations.nf --step 3"
   ]
  },
  {
   "cell_type": "code",
   "execution_count": 11,
   "metadata": {},
   "outputs": [
    {
     "name": "stdout",
     "output_type": "stream",
     "text": [
      "\n",
      "\u001b[1m\u001b[38;5;232m\u001b[48;5;43m N E X T F L O W \u001b[0;2m  ~  \u001b[mversion 25.04.7\u001b[m\n",
      "\u001b[K\n",
      "Launching\u001b[35m `basic_channel_operations.nf` \u001b[0;2m[\u001b[0;1;36mexotic_baekeland\u001b[0;2m] DSL2 - \u001b[36mrevision: \u001b[0;36mad0f1ab6d6\u001b[m\n",
      "\u001b[K\n",
      "4\n",
      "9\n",
      "16\n"
     ]
    }
   ],
   "source": [
    "# Task 4 - Return the squared values of the channel\n",
    "!nextflow run basic_channel_operations.nf --step 4"
   ]
  },
  {
   "cell_type": "code",
   "execution_count": 12,
   "metadata": {},
   "outputs": [
    {
     "name": "stdout",
     "output_type": "stream",
     "text": [
      "\n",
      "\u001b[1m\u001b[38;5;232m\u001b[48;5;43m N E X T F L O W \u001b[0;2m  ~  \u001b[mversion 25.04.7\u001b[m\n",
      "\u001b[K\n",
      "Launching\u001b[35m `basic_channel_operations.nf` \u001b[0;2m[\u001b[0;1;36mgigantic_poitras\u001b[0;2m] DSL2 - \u001b[36mrevision: \u001b[0;36mad0f1ab6d6\u001b[m\n",
      "\u001b[K\n",
      "4\n",
      "9\n"
     ]
    }
   ],
   "source": [
    "# Task 5 - Remember the previous task where you squared the values of the channel. Now, extract the first two items from the squared channel\n",
    "!nextflow run basic_channel_operations.nf --step 5"
   ]
  },
  {
   "cell_type": "code",
   "execution_count": 13,
   "metadata": {},
   "outputs": [
    {
     "name": "stdout",
     "output_type": "stream",
     "text": [
      "\n",
      "\u001b[1m\u001b[38;5;232m\u001b[48;5;43m N E X T F L O W \u001b[0;2m  ~  \u001b[mversion 25.04.7\u001b[m\n",
      "\u001b[K\n",
      "Launching\u001b[35m `basic_channel_operations.nf` \u001b[0;2m[\u001b[0;1;36msick_colden\u001b[0;2m] DSL2 - \u001b[36mrevision: \u001b[0;36mbc8f862120\u001b[m\n",
      "\u001b[K\n",
      "rolyaT\n",
      "tfiwS\n"
     ]
    }
   ],
   "source": [
    "# Task 6 - Remember when you used bash to reverse the output? Try to use map and Groovy to reverse the output\n",
    "!nextflow run basic_channel_operations.nf --step 6"
   ]
  },
  {
   "cell_type": "code",
   "execution_count": 15,
   "metadata": {},
   "outputs": [
    {
     "name": "stdout",
     "output_type": "stream",
     "text": [
      "\n",
      "\u001b[1m\u001b[38;5;232m\u001b[48;5;43m N E X T F L O W \u001b[0;2m  ~  \u001b[mversion 25.04.7\u001b[m\n",
      "\u001b[K\n",
      "Launching\u001b[35m `basic_channel_operations.nf` \u001b[0;2m[\u001b[0;1;36mkickass_panini\u001b[0;2m] DSL2 - \u001b[36mrevision: \u001b[0;36m82f9eb9ee5\u001b[m\n",
      "\u001b[K\n",
      "[SRR5_2.fq, /Users/sophiag/Documents/Dokumente/Studium/Master/FS4/ComputationalWorkflows/computational-workflows-2025/notebooks/day_04/files_dir/SRR5_2.fq]\n",
      "[fastq5_2.fq, /Users/sophiag/Documents/Dokumente/Studium/Master/FS4/ComputationalWorkflows/computational-workflows-2025/notebooks/day_04/files_dir/fastq5_2.fq]\n",
      "[fastq.fq, /Users/sophiag/Documents/Dokumente/Studium/Master/FS4/ComputationalWorkflows/computational-workflows-2025/notebooks/day_04/files_dir/fastq.fq]\n",
      "[fastq4_2.fq, /Users/sophiag/Documents/Dokumente/Studium/Master/FS4/ComputationalWorkflows/computational-workflows-2025/notebooks/day_04/files_dir/fastq4_2.fq]\n",
      "[SRR4_2.fq, /Users/sophiag/Documents/Dokumente/Studium/Master/FS4/ComputationalWorkflows/computational-workflows-2025/notebooks/day_04/files_dir/SRR4_2.fq]\n",
      "[SRR.fq, /Users/sophiag/Documents/Dokumente/Studium/Master/FS4/ComputationalWorkflows/computational-workflows-2025/notebooks/day_04/files_dir/SRR.fq]\n",
      "[SRR3_2.fq, /Users/sophiag/Documents/Dokumente/Studium/Master/FS4/ComputationalWorkflows/computational-workflows-2025/notebooks/day_04/files_dir/SRR3_2.fq]\n",
      "[fastq3_2.fq, /Users/sophiag/Documents/Dokumente/Studium/Master/FS4/ComputationalWorkflows/computational-workflows-2025/notebooks/day_04/files_dir/fastq3_2.fq]\n",
      "[fastq_1.fq, /Users/sophiag/Documents/Dokumente/Studium/Master/FS4/ComputationalWorkflows/computational-workflows-2025/notebooks/day_04/files_dir/fastq_1.fq]\n",
      "[fastq2_2.fq, /Users/sophiag/Documents/Dokumente/Studium/Master/FS4/ComputationalWorkflows/computational-workflows-2025/notebooks/day_04/files_dir/fastq2_2.fq]\n",
      "[SRR2_2.fq, /Users/sophiag/Documents/Dokumente/Studium/Master/FS4/ComputationalWorkflows/computational-workflows-2025/notebooks/day_04/files_dir/SRR2_2.fq]\n",
      "[fastq1_1.fq, /Users/sophiag/Documents/Dokumente/Studium/Master/FS4/ComputationalWorkflows/computational-workflows-2025/notebooks/day_04/files_dir/fastq1_1.fq]\n",
      "[SRR1_1.fq, /Users/sophiag/Documents/Dokumente/Studium/Master/FS4/ComputationalWorkflows/computational-workflows-2025/notebooks/day_04/files_dir/SRR1_1.fq]\n",
      "[fastq_2.fq, /Users/sophiag/Documents/Dokumente/Studium/Master/FS4/ComputationalWorkflows/computational-workflows-2025/notebooks/day_04/files_dir/fastq_2.fq]\n",
      "[fastq2_1.fq, /Users/sophiag/Documents/Dokumente/Studium/Master/FS4/ComputationalWorkflows/computational-workflows-2025/notebooks/day_04/files_dir/fastq2_1.fq]\n",
      "[SRR2_1.fq, /Users/sophiag/Documents/Dokumente/Studium/Master/FS4/ComputationalWorkflows/computational-workflows-2025/notebooks/day_04/files_dir/SRR2_1.fq]\n",
      "[fastq1_2.fq, /Users/sophiag/Documents/Dokumente/Studium/Master/FS4/ComputationalWorkflows/computational-workflows-2025/notebooks/day_04/files_dir/fastq1_2.fq]\n",
      "[SRR1_2.fq, /Users/sophiag/Documents/Dokumente/Studium/Master/FS4/ComputationalWorkflows/computational-workflows-2025/notebooks/day_04/files_dir/SRR1_2.fq]\n",
      "[SRR3_1.fq, /Users/sophiag/Documents/Dokumente/Studium/Master/FS4/ComputationalWorkflows/computational-workflows-2025/notebooks/day_04/files_dir/SRR3_1.fq]\n",
      "[fastq3_1.fq, /Users/sophiag/Documents/Dokumente/Studium/Master/FS4/ComputationalWorkflows/computational-workflows-2025/notebooks/day_04/files_dir/fastq3_1.fq]\n",
      "[fastq4_1.fq, /Users/sophiag/Documents/Dokumente/Studium/Master/FS4/ComputationalWorkflows/computational-workflows-2025/notebooks/day_04/files_dir/fastq4_1.fq]\n",
      "[SRR4_1.fq, /Users/sophiag/Documents/Dokumente/Studium/Master/FS4/ComputationalWorkflows/computational-workflows-2025/notebooks/day_04/files_dir/SRR4_1.fq]\n",
      "[SRR5_1.fq, /Users/sophiag/Documents/Dokumente/Studium/Master/FS4/ComputationalWorkflows/computational-workflows-2025/notebooks/day_04/files_dir/SRR5_1.fq]\n",
      "[fastq5_1.fq, /Users/sophiag/Documents/Dokumente/Studium/Master/FS4/ComputationalWorkflows/computational-workflows-2025/notebooks/day_04/files_dir/fastq5_1.fq]\n"
     ]
    }
   ],
   "source": [
    "# Task 7 - Use fromPath to include all fastq files in the \"files_dir\" directory, then use map to return a pair containing the file name and the file path (Hint: include groovy code)\n",
    "!nextflow run basic_channel_operations.nf --step 7"
   ]
  },
  {
   "cell_type": "code",
   "execution_count": 17,
   "metadata": {},
   "outputs": [
    {
     "name": "stdout",
     "output_type": "stream",
     "text": [
      "\n",
      "\u001b[1m\u001b[38;5;232m\u001b[48;5;43m N E X T F L O W \u001b[0;2m  ~  \u001b[mversion 25.04.7\u001b[m\n",
      "\u001b[K\n",
      "Launching\u001b[35m `basic_channel_operations.nf` \u001b[0;2m[\u001b[0;1;36mcranky_jang\u001b[0;2m] DSL2 - \u001b[36mrevision: \u001b[0;36m4136f8faf4\u001b[m\n",
      "\u001b[K\n",
      "1\n",
      "2\n",
      "3\n",
      "4\n",
      "5\n",
      "6\n"
     ]
    }
   ],
   "source": [
    "# Task 8 - Combine the items from the two channels into a single channel\n",
    "!nextflow run basic_channel_operations.nf --step 8"
   ]
  },
  {
   "cell_type": "code",
   "execution_count": 18,
   "metadata": {},
   "outputs": [
    {
     "name": "stdout",
     "output_type": "stream",
     "text": [
      "\n",
      "\u001b[1m\u001b[38;5;232m\u001b[48;5;43m N E X T F L O W \u001b[0;2m  ~  \u001b[mversion 25.04.7\u001b[m\n",
      "\u001b[K\n",
      "Launching\u001b[35m `basic_channel_operations.nf` \u001b[0;2m[\u001b[0;1;36mcrazy_rubens\u001b[0;2m] DSL2 - \u001b[36mrevision: \u001b[0;36m8287dd042f\u001b[m\n",
      "\u001b[K\n",
      "1\n",
      "2\n",
      "3\n",
      "4\n",
      "5\n",
      "6\n"
     ]
    }
   ],
   "source": [
    "# Task 9 - Flatten the list in the channel\n",
    "!nextflow run basic_channel_operations.nf --step 9"
   ]
  },
  {
   "cell_type": "code",
   "execution_count": 19,
   "metadata": {},
   "outputs": [
    {
     "name": "stdout",
     "output_type": "stream",
     "text": [
      "\n",
      "\u001b[1m\u001b[38;5;232m\u001b[48;5;43m N E X T F L O W \u001b[0;2m  ~  \u001b[mversion 25.04.7\u001b[m\n",
      "\u001b[K\n",
      "Launching\u001b[35m `basic_channel_operations.nf` \u001b[0;2m[\u001b[0;1;36mastonishing_bell\u001b[0;2m] DSL2 - \u001b[36mrevision: \u001b[0;36mfc9810af5e\u001b[m\n",
      "\u001b[K\n",
      "[1, 2, 3]\n"
     ]
    }
   ],
   "source": [
    "# Task 10 - Collect the items of a channel into a list. What kind of channel is the output channel?\n",
    "!nextflow run basic_channel_operations.nf --step 10"
   ]
  },
  {
   "cell_type": "markdown",
   "metadata": {},
   "source": [
    "What kind of channel is the output channel?"
   ]
  },
  {
   "cell_type": "code",
   "execution_count": 20,
   "metadata": {},
   "outputs": [
    {
     "name": "stdout",
     "output_type": "stream",
     "text": [
      "\n",
      "\u001b[1m\u001b[38;5;232m\u001b[48;5;43m N E X T F L O W \u001b[0;2m  ~  \u001b[mversion 25.04.7\u001b[m\n",
      "\u001b[K\n",
      "Launching\u001b[35m `basic_channel_operations.nf` \u001b[0;2m[\u001b[0;1;36msleepy_golick\u001b[0;2m] DSL2 - \u001b[36mrevision: \u001b[0;36maaa813a413\u001b[m\n",
      "\u001b[K\n",
      "[1, [V, f, B]]\n",
      "[3, [M, G, 33]]\n",
      "[2, [O, L, E]]\n"
     ]
    }
   ],
   "source": [
    "# Task 11 -  From the input channel, create lists where each first item in the list of lists is the first item in the output channel, followed by a list of all the items its paired with\n",
    "!nextflow run basic_channel_operations.nf --step 11"
   ]
  },
  {
   "cell_type": "code",
   "execution_count": 21,
   "metadata": {},
   "outputs": [
    {
     "name": "stdout",
     "output_type": "stream",
     "text": [
      "\n",
      "\u001b[1m\u001b[38;5;232m\u001b[48;5;43m N E X T F L O W \u001b[0;2m  ~  \u001b[mversion 25.04.7\u001b[m\n",
      "\u001b[K\n",
      "Launching\u001b[35m `basic_channel_operations.nf` \u001b[0;2m[\u001b[0;1;36mexotic_gilbert\u001b[0;2m] DSL2 - \u001b[36mrevision: \u001b[0;36m823e8a35a0\u001b[m\n",
      "\u001b[K\n",
      "[1, V, f]\n",
      "[3, M, G]\n",
      "[2, O, L]\n"
     ]
    }
   ],
   "source": [
    "# Task 12 - Create a channel that joins the input to the output channel. What do you notice?\n",
    "!nextflow run basic_channel_operations.nf --step 12"
   ]
  },
  {
   "cell_type": "markdown",
   "metadata": {},
   "source": [
    "Task 12 - What do you notice compared to Task 11?"
   ]
  },
  {
   "cell_type": "code",
   "execution_count": 23,
   "metadata": {},
   "outputs": [
    {
     "name": "stdout",
     "output_type": "stream",
     "text": [
      "\n",
      "\u001b[1m\u001b[38;5;232m\u001b[48;5;43m N E X T F L O W \u001b[0;2m  ~  \u001b[mversion 25.04.7\u001b[m\n",
      "\u001b[K\n",
      "Launching\u001b[35m `basic_channel_operations.nf` \u001b[0;2m[\u001b[0;1;36mintergalactic_wozniak\u001b[0;2m] DSL2 - \u001b[36mrevision: \u001b[0;36ma2d2002af5\u001b[m\n",
      "\u001b[K\n",
      "Even numbers: [2, 4, 6, 8, 10]\n",
      "Odd numbers: [1, 3, 5, 7, 9]\n"
     ]
    }
   ],
   "source": [
    "# Task 13 - Split the input channel into two channels, one of all the even numbers and the other of all the odd numbers.\n",
    "#           Write them to stdout including information about which is which\n",
    "!nextflow run basic_channel_operations.nf --step 13 -dump-channels"
   ]
  },
  {
   "cell_type": "code",
   "execution_count": 24,
   "metadata": {},
   "outputs": [
    {
     "name": "stdout",
     "output_type": "stream",
     "text": [
      "\n",
      "\u001b[1m\u001b[38;5;232m\u001b[48;5;43m N E X T F L O W \u001b[0;2m  ~  \u001b[mversion 25.04.7\u001b[m\n",
      "\u001b[K\n",
      "Launching\u001b[35m `basic_channel_operations.nf` \u001b[0;2m[\u001b[0;1;36mbig_khorana\u001b[0;2m] DSL2 - \u001b[36mrevision: \u001b[0;36m461b1f7665\u001b[m\n",
      "\u001b[K\n",
      "Snape\n",
      "Albus\n",
      "Ron\n",
      "Hagrid\n",
      "Dobby\n",
      "Hermione\n",
      "Harry\n"
     ]
    }
   ],
   "source": [
    "# Task 14 - Nextflow has the concept of maps. Write the names in the maps in this channel to a file called \"names.txt\". Each name should be on a new line. \n",
    "#           Store the file in the \"results\" directory under the name \"names.txt\"\n",
    "\n",
    "!nextflow run basic_channel_operations.nf --step 14\n",
    "\n",
    "!cat results/names.txt\n"
   ]
  },
  {
   "cell_type": "markdown",
   "metadata": {},
   "source": [
    "## Now that we learned about Channels and Operators to deal with them, let's focus on Processes that make use of these channels."
   ]
  },
  {
   "cell_type": "markdown",
   "metadata": {},
   "source": [
    "Please answer the questions in $\\texttt{basics\\_processes.nf}$ and run the code here. "
   ]
  },
  {
   "cell_type": "code",
   "execution_count": 42,
   "metadata": {},
   "outputs": [
    {
     "name": "stdout",
     "output_type": "stream",
     "text": [
      "\n",
      "\u001b[1m\u001b[38;5;232m\u001b[48;5;43m N E X T F L O W \u001b[0;2m  ~  \u001b[mversion 25.04.7\u001b[m\n",
      "\u001b[K\n",
      "Launching\u001b[35m `basics_processes.nf` \u001b[0;2m[\u001b[0;1;36mfriendly_pauling\u001b[0;2m] DSL2 - \u001b[36mrevision: \u001b[0;36m71bfe5b239\u001b[m\n",
      "\u001b[K\n",
      "\u001b[2m[\u001b[0;34m-        \u001b[0;2m] \u001b[0;2m\u001b[mSAYHELLO -\u001b[K\n",
      "\u001b[2A\n",
      "\u001b[2m[\u001b[0;34m-        \u001b[0;2m] \u001b[0;2m\u001b[mSAYHELLO\u001b[2m |\u001b[m 0 of 1\u001b[K\n",
      "\u001b[2A\n",
      "\u001b[2mexecutor >  local (1)\u001b[m\u001b[K\n",
      "\u001b[2m[\u001b[0;34mf4/f619da\u001b[0;2m] \u001b[0;2m\u001b[mSAYHELLO\u001b[2m |\u001b[m 1 of 1\u001b[32m ✔\u001b[m\u001b[K\n",
      "Hello World!\u001b[K\n",
      "\u001b[K\n",
      "\u001b[5A\n",
      "\u001b[2mexecutor >  local (1)\u001b[m\u001b[K\n",
      "\u001b[2m[\u001b[0;34mf4/f619da\u001b[0;2m] \u001b[0;2m\u001b[mSAYHELLO\u001b[2m |\u001b[m 1 of 1\u001b[32m ✔\u001b[m\u001b[K\n",
      "Hello World!\u001b[K\n",
      "\u001b[K\n",
      "\n"
     ]
    }
   ],
   "source": [
    "# Task 1 - create a process that says Hello World! (add debug true to the process right after initializing to be sable to print the output to the console)\n",
    "!nextflow run basics_processes.nf --step 1"
   ]
  },
  {
   "cell_type": "code",
   "execution_count": 27,
   "metadata": {},
   "outputs": [
    {
     "name": "stdout",
     "output_type": "stream",
     "text": [
      "\n",
      "\u001b[1m\u001b[38;5;232m\u001b[48;5;43m N E X T F L O W \u001b[0;2m  ~  \u001b[mversion 25.04.7\u001b[m\n",
      "\u001b[K\n",
      "Launching\u001b[35m `basics_processes.nf` \u001b[0;2m[\u001b[0;1;36mfriendly_plateau\u001b[0;2m] DSL2 - \u001b[36mrevision: \u001b[0;36mb2be8160de\u001b[m\n",
      "\u001b[K\n",
      "\u001b[2m[\u001b[0;34m-        \u001b[0;2m] \u001b[0;2m\u001b[mSAYHELLO_PYTHON\u001b[2m |\u001b[m 0 of 1\u001b[K\n",
      "\u001b[2A\n",
      "\u001b[2mexecutor >  local (1)\u001b[m\u001b[K\n",
      "\u001b[2m[\u001b[0;34m43/99a2ad\u001b[0;2m] \u001b[0;2m\u001b[mSAYHELLO_PYTHON\u001b[2m |\u001b[m 1 of 1\u001b[32m ✔\u001b[m\u001b[K\n",
      "Hello World from Python!\u001b[K\n",
      "\u001b[K\n",
      "\n"
     ]
    }
   ],
   "source": [
    "# Task 2 - create a process that says Hello World! using Python\n",
    "!nextflow run basics_processes.nf --step 2"
   ]
  },
  {
   "cell_type": "code",
   "execution_count": 28,
   "metadata": {},
   "outputs": [
    {
     "name": "stdout",
     "output_type": "stream",
     "text": [
      "\n",
      "\u001b[1m\u001b[38;5;232m\u001b[48;5;43m N E X T F L O W \u001b[0;2m  ~  \u001b[mversion 25.04.7\u001b[m\n",
      "\u001b[K\n",
      "Launching\u001b[35m `basics_processes.nf` \u001b[0;2m[\u001b[0;1;36mhungry_gutenberg\u001b[0;2m] DSL2 - \u001b[36mrevision: \u001b[0;36m0454734480\u001b[m\n",
      "\u001b[K\n",
      "\u001b[2m[\u001b[0;34m-        \u001b[0;2m] \u001b[0;2m\u001b[mSAYHELLO_PARAM -\u001b[K\n",
      "\u001b[2A\n",
      "\u001b[2mexecutor >  local (1)\u001b[m\u001b[K\n",
      "\u001b[2m[\u001b[0;34m70/fd4469\u001b[0;2m] \u001b[0;2m\u001b[mSAYHELLO_PARAM\u001b[33;2m (\u001b[0;33m1\u001b[2m)\u001b[m\u001b[2m |\u001b[m 1 of 1\u001b[32m ✔\u001b[m\u001b[K\n",
      "Hello world!\u001b[K\n",
      "\u001b[K\n",
      "\u001b[5A\n",
      "\u001b[2mexecutor >  local (1)\u001b[m\u001b[K\n",
      "\u001b[2m[\u001b[0;34m70/fd4469\u001b[0;2m] \u001b[0;2m\u001b[mSAYHELLO_PARAM\u001b[33;2m (\u001b[0;33m1\u001b[2m)\u001b[m\u001b[2m |\u001b[m 1 of 1\u001b[32m ✔\u001b[m\u001b[K\n",
      "Hello world!\u001b[K\n",
      "\u001b[K\n",
      "\n"
     ]
    }
   ],
   "source": [
    "# Task 3 - create a process that reads in the string \"Hello world!\" from a channel and write it to command line\n",
    "!nextflow run basics_processes.nf --step 3"
   ]
  },
  {
   "cell_type": "code",
   "execution_count": 30,
   "metadata": {},
   "outputs": [
    {
     "name": "stdout",
     "output_type": "stream",
     "text": [
      "\n",
      "\u001b[1m\u001b[38;5;232m\u001b[48;5;43m N E X T F L O W \u001b[0;2m  ~  \u001b[mversion 25.04.7\u001b[m\n",
      "\u001b[K\n",
      "Launching\u001b[35m `basics_processes.nf` \u001b[0;2m[\u001b[0;1;36mangry_brahmagupta\u001b[0;2m] DSL2 - \u001b[36mrevision: \u001b[0;36m8797387380\u001b[m\n",
      "\u001b[K\n",
      "\u001b[2m[\u001b[0;34m-        \u001b[0;2m] \u001b[0;2m\u001b[mSAYHELLO_FILE -\u001b[K\n",
      "\u001b[2A\n",
      "\u001b[2m[\u001b[0;34m-        \u001b[0;2m] \u001b[0;2m\u001b[mSAYHELLO_FILE\u001b[2m |\u001b[m 0 of 1\u001b[K\n",
      "\u001b[2A\n",
      "\u001b[2mexecutor >  local (1)\u001b[m\u001b[K\n",
      "\u001b[2m[\u001b[0;34m9c/b57946\u001b[0;2m] \u001b[0;2m\u001b[mSAYHELLO_FILE\u001b[33;2m (\u001b[0;33m1\u001b[2m)\u001b[m\u001b[2m |\u001b[m 1 of 1\u001b[32m ✔\u001b[m\u001b[K\n",
      "File created at: /Users/sophiag/Documents/Dokumente/Studium/Master/FS4/ComputationalWorkflows/computational-workflows-2025/notebooks/day_04/work/9c/b579460d24549820ab468aa1620691/greeting.txt\u001b[K\n",
      "\n"
     ]
    }
   ],
   "source": [
    "# Task 4 - create a process that reads in the string \"Hello world!\" from a channel and write it to a file. \n",
    "!nextflow run basics_processes.nf --step 4"
   ]
  },
  {
   "cell_type": "markdown",
   "metadata": {},
   "source": [
    "the file is stored in a subfolder in the work directory"
   ]
  },
  {
   "cell_type": "markdown",
   "metadata": {},
   "source": [
    "It might be that you created the file but it doesnt appear in the directory. Use the work folder and the output on the command line to find the file."
   ]
  },
  {
   "cell_type": "code",
   "execution_count": 31,
   "metadata": {},
   "outputs": [
    {
     "name": "stdout",
     "output_type": "stream",
     "text": [
      "\n",
      "\u001b[1m\u001b[38;5;232m\u001b[48;5;43m N E X T F L O W \u001b[0;2m  ~  \u001b[mversion 25.04.7\u001b[m\n",
      "\u001b[K\n",
      "Launching\u001b[35m `basics_processes.nf` \u001b[0;2m[\u001b[0;1;36mridiculous_leavitt\u001b[0;2m] DSL2 - \u001b[36mrevision: \u001b[0;36mdc1b44d2b0\u001b[m\n",
      "\u001b[K\n",
      "\u001b[2m[\u001b[0;34m-        \u001b[0;2m] \u001b[0;2m\u001b[mUPPERCASE\u001b[2m |\u001b[m 0 of 1\u001b[K\n",
      "\u001b[2A\n",
      "\u001b[2mexecutor >  local (1)\u001b[m\u001b[K\n",
      "\u001b[2m[\u001b[0;34m7e/a560d5\u001b[0;2m] \u001b[0;2m\u001b[mUPPERCASE\u001b[33;2m (\u001b[0;33m1\u001b[2m)\u001b[m\u001b[2m |\u001b[m 1 of 1\u001b[32m ✔\u001b[m\u001b[K\n",
      "Uppercase file created at: /Users/sophiag/Documents/Dokumente/Studium/Master/FS4/ComputationalWorkflows/computational-workflows-2025/notebooks/day_04/work/7e/a560d57c1e6e7ab72d77e22742b1c2/greeting_upper.txt\u001b[K\n",
      "\n"
     ]
    }
   ],
   "source": [
    "# Task 5 - create a process that reads in a string and converts it to uppercase and saves it to a file as output. View the path to the file in the console\n",
    "!nextflow run basics_processes.nf --step 5"
   ]
  },
  {
   "cell_type": "code",
   "execution_count": 32,
   "metadata": {},
   "outputs": [
    {
     "name": "stdout",
     "output_type": "stream",
     "text": [
      "\n",
      "\u001b[1m\u001b[38;5;232m\u001b[48;5;43m N E X T F L O W \u001b[0;2m  ~  \u001b[mversion 25.04.7\u001b[m\n",
      "\u001b[K\n",
      "Launching\u001b[35m `basics_processes.nf` \u001b[0;2m[\u001b[0;1;36mhopeful_pike\u001b[0;2m] DSL2 - \u001b[36mrevision: \u001b[0;36mcc367a7860\u001b[m\n",
      "\u001b[K\n",
      "\u001b[2m[\u001b[0;34m-        \u001b[0;2m] \u001b[0;2m\u001b[mUPPERCASE  -\u001b[K\n",
      "\u001b[2m[\u001b[0;34m-        \u001b[0;2m] \u001b[0;2m\u001b[mPRINTUPPER -\u001b[K\n",
      "\u001b[3A\n",
      "\u001b[2mexecutor >  local (1)\u001b[m\u001b[K\n",
      "\u001b[2m[\u001b[0;34ma5/be1aac\u001b[0;2m] \u001b[0;2m\u001b[mUPPERCASE\u001b[33;2m (\u001b[0;33m1\u001b[2m)\u001b[m\u001b[2m |\u001b[m 0 of 1\u001b[K\n",
      "\u001b[2m[\u001b[0;34m-        \u001b[0;2m] \u001b[0;2m\u001b[mPRINTUPPER    -\u001b[K\n",
      "\u001b[4A\n",
      "\u001b[2mexecutor >  local (2)\u001b[m\u001b[K\n",
      "\u001b[2m[\u001b[0;34ma5/be1aac\u001b[0;2m] \u001b[0;2m\u001b[mUPPERCASE\u001b[33;2m (\u001b[0;33m1\u001b[2m)\u001b[m \u001b[2m |\u001b[m 1 of 1\u001b[32m ✔\u001b[m\u001b[K\n",
      "\u001b[2m[\u001b[0;34mb9/711f6b\u001b[0;2m] \u001b[0;2m\u001b[mPRINTUPPER\u001b[33;2m (\u001b[0;33m1\u001b[2m)\u001b[m\u001b[2m |\u001b[m 1 of 1\u001b[32m ✔\u001b[m\u001b[K\n",
      "HELLO WORLD!\u001b[K\n",
      "\u001b[K\n",
      "\u001b[6A\n",
      "\u001b[2mexecutor >  local (2)\u001b[m\u001b[K\n",
      "\u001b[2m[\u001b[0;34ma5/be1aac\u001b[0;2m] \u001b[0;2m\u001b[mUPPERCASE\u001b[33;2m (\u001b[0;33m1\u001b[2m)\u001b[m \u001b[2m |\u001b[m 1 of 1\u001b[32m ✔\u001b[m\u001b[K\n",
      "\u001b[2m[\u001b[0;34mb9/711f6b\u001b[0;2m] \u001b[0;2m\u001b[mPRINTUPPER\u001b[33;2m (\u001b[0;33m1\u001b[2m)\u001b[m\u001b[2m |\u001b[m 1 of 1\u001b[32m ✔\u001b[m\u001b[K\n",
      "HELLO WORLD!\u001b[K\n",
      "\u001b[K\n",
      "\n"
     ]
    }
   ],
   "source": [
    "# Task 6 - add another process that reads in the resulting file from UPPERCASE and print the content to the console (debug true).\n",
    "!nextflow run basics_processes.nf --step 6"
   ]
  },
  {
   "cell_type": "markdown",
   "metadata": {},
   "source": [
    "Comared to all the other runs. What changed in the output here and why?"
   ]
  },
  {
   "cell_type": "markdown",
   "metadata": {},
   "source": [
    "We connected processes here. We took the output as input for the next process. "
   ]
  },
  {
   "cell_type": "code",
   "execution_count": 33,
   "metadata": {},
   "outputs": [
    {
     "name": "stdout",
     "output_type": "stream",
     "text": [
      "\n",
      "\u001b[1m\u001b[38;5;232m\u001b[48;5;43m N E X T F L O W \u001b[0;2m  ~  \u001b[mversion 25.04.7\u001b[m\n",
      "\u001b[K\n",
      "Launching\u001b[35m `basics_processes.nf` \u001b[0;2m[\u001b[0;1;36mdisturbed_dalembert\u001b[0;2m] DSL2 - \u001b[36mrevision: \u001b[0;36mb4511b93ae\u001b[m\n",
      "\u001b[K\n",
      "\u001b[2m[\u001b[0;34m-        \u001b[0;2m] \u001b[0;2m\u001b[mUPPERCASE -\u001b[K\n",
      "\u001b[2m[\u001b[0;34m-        \u001b[0;2m] \u001b[0;2m\u001b[mZIP       -\u001b[K\n",
      "\u001b[3A\n",
      "\u001b[2mexecutor >  local (2)\u001b[m\u001b[K\n",
      "\u001b[2m[\u001b[0;34mc6/34cd65\u001b[0;2m] \u001b[0;2m\u001b[mUPPERCASE\u001b[33;2m (\u001b[0;33m1\u001b[2m)\u001b[m\u001b[2m |\u001b[m 1 of 1\u001b[32m ✔\u001b[m\u001b[K\n",
      "\u001b[2m[\u001b[0;34m10/353e1a\u001b[0;2m] \u001b[0;2m\u001b[mZIP\u001b[33;2m (\u001b[0;33m1\u001b[2m)\u001b[m      \u001b[2m |\u001b[m 0 of 1\u001b[K\n",
      "\u001b[4A\n",
      "\u001b[2mexecutor >  local (2)\u001b[m\u001b[K\n",
      "\u001b[2m[\u001b[0;34mc6/34cd65\u001b[0;2m] \u001b[0;2m\u001b[mUPPERCASE\u001b[33;2m (\u001b[0;33m1\u001b[2m)\u001b[m\u001b[2m |\u001b[m 1 of 1\u001b[32m ✔\u001b[m\u001b[K\n",
      "\u001b[2m[\u001b[0;34m10/353e1a\u001b[0;2m] \u001b[0;2m\u001b[mZIP\u001b[33;2m (\u001b[0;33m1\u001b[2m)\u001b[m      \u001b[2m |\u001b[m 1 of 1\u001b[32m ✔\u001b[m\u001b[K\n",
      "  adding: greeting_upper.txt (stored 0%)\u001b[K\n",
      "\u001b[K\n",
      "Zipped file created at: /Users/sophiag/Documents/Dokumente/Studium/Master/FS4/ComputationalWorkflows/computational-workflows-2025/notebooks/day_04/work/10/353e1a0d9054037a7a574a263eeb66/greeting_upper.txt.zip\u001b[K\n",
      "\n"
     ]
    }
   ],
   "source": [
    "# Task 7 - based on the paramater \"zip\" (see at the head of the file), create a process that zips the file created in the UPPERCASE process either in \"zip\", \"gzip\" OR \"bzip2\" format.\n",
    "#          Print out the path to the zipped file in the console\n",
    "!nextflow run basics_processes.nf --step 7"
   ]
  },
  {
   "cell_type": "code",
   "execution_count": 35,
   "metadata": {},
   "outputs": [
    {
     "name": "stdout",
     "output_type": "stream",
     "text": [
      "\n",
      "\u001b[1m\u001b[38;5;232m\u001b[48;5;43m N E X T F L O W \u001b[0;2m  ~  \u001b[mversion 25.04.7\u001b[m\n",
      "\u001b[K\n",
      "Launching\u001b[35m `basics_processes.nf` \u001b[0;2m[\u001b[0;1;36melegant_boyd\u001b[0;2m] DSL2 - \u001b[36mrevision: \u001b[0;36m884d4c8258\u001b[m\n",
      "\u001b[K\n",
      "\u001b[2m[\u001b[0;34m-        \u001b[0;2m] \u001b[0;2m\u001b[mUPPERCASE -\u001b[K\n",
      "\u001b[2m[\u001b[0;34m-        \u001b[0;2m] \u001b[0;2m\u001b[mZIP_ALL   -\u001b[K\n",
      "\u001b[3A\n",
      "\u001b[2mexecutor >  local (1)\u001b[m\u001b[K\n",
      "\u001b[2m[\u001b[0;34m14/b3e246\u001b[0;2m] \u001b[0;2m\u001b[mUPPERCASE\u001b[33;2m (\u001b[0;33m1\u001b[2m)\u001b[m\u001b[2m |\u001b[m 1 of 1\u001b[32m ✔\u001b[m\u001b[K\n",
      "\u001b[2m[\u001b[0;34m-        \u001b[0;2m] \u001b[0;2m\u001b[mZIP_ALL       -\u001b[K\n",
      "\u001b[4A\n",
      "\u001b[2mexecutor >  local (2)\u001b[m\u001b[K\n",
      "\u001b[2m[\u001b[0;34m14/b3e246\u001b[0;2m] \u001b[0;2m\u001b[mUPPERCASE\u001b[33;2m (\u001b[0;33m1\u001b[2m)\u001b[m\u001b[2m |\u001b[m 1 of 1\u001b[32m ✔\u001b[m\u001b[K\n",
      "\u001b[2m[\u001b[0;34mcd/0d12c0\u001b[0;2m] \u001b[0;2m\u001b[mZIP_ALL\u001b[33;2m (\u001b[0;33m1\u001b[2m)\u001b[m  \u001b[2m |\u001b[m 0 of 1\u001b[K\n",
      "\u001b[4A\n",
      "\u001b[2mexecutor >  local (2)\u001b[m\u001b[K\n",
      "\u001b[2m[\u001b[0;34m14/b3e246\u001b[0;2m] \u001b[0;2m\u001b[mUPPERCASE\u001b[33;2m (\u001b[0;33m1\u001b[2m)\u001b[m\u001b[2m |\u001b[m 1 of 1\u001b[32m ✔\u001b[m\u001b[K\n",
      "\u001b[2m[\u001b[0;34mcd/0d12c0\u001b[0;2m] \u001b[0;2m\u001b[mZIP_ALL\u001b[33;2m (\u001b[0;33m1\u001b[2m)\u001b[m  \u001b[2m |\u001b[m 1 of 1\u001b[32m ✔\u001b[m\u001b[K\n",
      "  adding: greeting_upper.txt (stored 0%)\u001b[K\n",
      "\u001b[K\n",
      "ZIP file created: /Users/sophiag/Documents/Dokumente/Studium/Master/FS4/ComputationalWorkflows/computational-workflows-2025/notebooks/day_04/work/cd/0d12c0634b7b1d5d23c0039cf43975/greeting_upper.txt.zip\u001b[K\n",
      "GZIP file created: /Users/sophiag/Documents/Dokumente/Studium/Master/FS4/ComputationalWorkflows/computational-workflows-2025/notebooks/day_04/work/cd/0d12c0634b7b1d5d23c0039cf43975/greeting_upper.txt.gz\u001b[K\n",
      "BZIP2 file created: /Users/sophiag/Documents/Dokumente/Studium/Master/FS4/ComputationalWorkflows/computational-workflows-2025/notebooks/day_04/work/cd/0d12c0634b7b1d5d23c0039cf43975/greeting_upper.txt.bz2\u001b[K\n",
      "\u001b[9A\n",
      "\u001b[2mexecutor >  local (2)\u001b[m\u001b[K\n",
      "\u001b[2m[\u001b[0;34m14/b3e246\u001b[0;2m] \u001b[0;2m\u001b[mUPPERCASE\u001b[33;2m (\u001b[0;33m1\u001b[2m)\u001b[m\u001b[2m |\u001b[m 1 of 1\u001b[32m ✔\u001b[m\u001b[K\n",
      "\u001b[2m[\u001b[0;34mcd/0d12c0\u001b[0;2m] \u001b[0;2m\u001b[mZIP_ALL\u001b[33;2m (\u001b[0;33m1\u001b[2m)\u001b[m  \u001b[2m |\u001b[m 1 of 1\u001b[32m ✔\u001b[m\u001b[K\n",
      "  adding: greeting_upper.txt (stored 0%)\u001b[K\n",
      "\u001b[K\n",
      "ZIP file created: /Users/sophiag/Documents/Dokumente/Studium/Master/FS4/ComputationalWorkflows/computational-workflows-2025/notebooks/day_04/work/cd/0d12c0634b7b1d5d23c0039cf43975/greeting_upper.txt.zip\u001b[K\n",
      "GZIP file created: /Users/sophiag/Documents/Dokumente/Studium/Master/FS4/ComputationalWorkflows/computational-workflows-2025/notebooks/day_04/work/cd/0d12c0634b7b1d5d23c0039cf43975/greeting_upper.txt.gz\u001b[K\n",
      "BZIP2 file created: /Users/sophiag/Documents/Dokumente/Studium/Master/FS4/ComputationalWorkflows/computational-workflows-2025/notebooks/day_04/work/cd/0d12c0634b7b1d5d23c0039cf43975/greeting_upper.txt.bz2\u001b[K\n",
      "\n"
     ]
    }
   ],
   "source": [
    "# Task 8 - Create a process that zips the file created in the UPPERCASE process in \"zip\", \"gzip\" AND \"bzip2\" format. Print out the paths to the zipped files in the console\n",
    "!nextflow run basics_processes.nf --step 8"
   ]
  },
  {
   "cell_type": "code",
   "execution_count": 38,
   "metadata": {},
   "outputs": [
    {
     "name": "stdout",
     "output_type": "stream",
     "text": [
      "\n",
      "\u001b[1m\u001b[38;5;232m\u001b[48;5;43m N E X T F L O W \u001b[0;2m  ~  \u001b[mversion 25.04.7\u001b[m\n",
      "\u001b[K\n",
      "Launching\u001b[35m `basics_processes.nf` \u001b[0;2m[\u001b[0;1;36msad_hirsch\u001b[0;2m] DSL2 - \u001b[36mrevision: \u001b[0;36m71bfe5b239\u001b[m\n",
      "\u001b[K\n",
      "\u001b[2m[\u001b[0;34m-        \u001b[0;2m] \u001b[0;2m\u001b[mWRITETOFILE -\u001b[K\n",
      "\u001b[2A\n",
      "\u001b[2mexecutor >  local (1)\u001b[m\u001b[K\n",
      "\u001b[2m[\u001b[0;34m6a/d02c8e\u001b[0;2m] \u001b[0;2m\u001b[mWRITETOFILE\u001b[2m |\u001b[m 1 of 1\u001b[32m ✔\u001b[m\u001b[K\n",
      "\n"
     ]
    }
   ],
   "source": [
    " # Task 9 - Create a process that reads in a list of names and titles from a channel and writes them to a file.\n",
    "#           Store the file in the \"results\" directory under the name \"names.tsv\"\n",
    "!nextflow run basics_processes.nf --step 9"
   ]
  },
  {
   "cell_type": "code",
   "execution_count": 39,
   "metadata": {},
   "outputs": [
    {
     "data": {
      "text/html": [
       "<div>\n",
       "<style scoped>\n",
       "    .dataframe tbody tr th:only-of-type {\n",
       "        vertical-align: middle;\n",
       "    }\n",
       "\n",
       "    .dataframe tbody tr th {\n",
       "        vertical-align: top;\n",
       "    }\n",
       "\n",
       "    .dataframe thead th {\n",
       "        text-align: right;\n",
       "    }\n",
       "</style>\n",
       "<table border=\"1\" class=\"dataframe\">\n",
       "  <thead>\n",
       "    <tr style=\"text-align: right;\">\n",
       "      <th></th>\n",
       "      <th>name</th>\n",
       "      <th>title</th>\n",
       "    </tr>\n",
       "  </thead>\n",
       "  <tbody>\n",
       "    <tr>\n",
       "      <th>0</th>\n",
       "      <td>Harry</td>\n",
       "      <td>student</td>\n",
       "    </tr>\n",
       "    <tr>\n",
       "      <th>1</th>\n",
       "      <td>Ron</td>\n",
       "      <td>student</td>\n",
       "    </tr>\n",
       "    <tr>\n",
       "      <th>2</th>\n",
       "      <td>Hermione</td>\n",
       "      <td>student</td>\n",
       "    </tr>\n",
       "    <tr>\n",
       "      <th>3</th>\n",
       "      <td>Albus</td>\n",
       "      <td>headmaster</td>\n",
       "    </tr>\n",
       "    <tr>\n",
       "      <th>4</th>\n",
       "      <td>Snape</td>\n",
       "      <td>teacher</td>\n",
       "    </tr>\n",
       "    <tr>\n",
       "      <th>5</th>\n",
       "      <td>Hagrid</td>\n",
       "      <td>groundkeeper</td>\n",
       "    </tr>\n",
       "    <tr>\n",
       "      <th>6</th>\n",
       "      <td>Dobby</td>\n",
       "      <td>hero</td>\n",
       "    </tr>\n",
       "  </tbody>\n",
       "</table>\n",
       "</div>"
      ],
      "text/plain": [
       "       name         title\n",
       "0     Harry       student\n",
       "1       Ron       student\n",
       "2  Hermione       student\n",
       "3     Albus    headmaster\n",
       "4     Snape       teacher\n",
       "5    Hagrid  groundkeeper\n",
       "6     Dobby          hero"
      ]
     },
     "execution_count": 39,
     "metadata": {},
     "output_type": "execute_result"
    }
   ],
   "source": [
    "import pandas as pd\n",
    "\n",
    "df = pd.read_csv(\"results/names.tsv\", sep=\"\\t\")\n",
    "df"
   ]
  },
  {
   "cell_type": "markdown",
   "metadata": {},
   "source": [
    "## Now, let's try some more advanced Operators"
   ]
  },
  {
   "cell_type": "markdown",
   "metadata": {},
   "source": [
    "Please answer the questions in $\\texttt{advanced\\_channel\\_operations.nf}$ and run the code here. "
   ]
  },
  {
   "cell_type": "markdown",
   "metadata": {},
   "source": [
    "To come closer to actual pipelines, we introduce the concept of \"meta-maps\" which you can imagine as dictionaries that are passed with data via channels containing crucial metadata on the sample. \n",
    "\n",
    "Also, we will come back to samplesheets which you should remember from last week."
   ]
  },
  {
   "cell_type": "code",
   "execution_count": 43,
   "metadata": {},
   "outputs": [
    {
     "name": "stdout",
     "output_type": "stream",
     "text": [
      "\n",
      "\u001b[1m\u001b[38;5;232m\u001b[48;5;43m N E X T F L O W \u001b[0;2m  ~  \u001b[mversion 25.04.7\u001b[m\n",
      "\u001b[K\n",
      "Launching\u001b[35m `advanced_channel_operations.nf` \u001b[0;2m[\u001b[0;1;36mtiny_bartik\u001b[0;2m] DSL2 - \u001b[36mrevision: \u001b[0;36m5d2f638e40\u001b[m\n",
      "\u001b[K\n",
      "[sample:CONTROL_REP1, fastq_1:fq_1_R1.fastq.gz, fastq_2:fq_1_R2.fastq.gz, strandedness:auto]\n",
      "[sample:CONTROL_REP2, fastq_1:fq_2_R1.fastq.gz, fastq_2:fq_2_R2.fastq.gz, strandedness:forward]\n",
      "[sample:CONTROL_REP3, fastq_1:fq_3_R1.fastq.gz, fastq_2:fq_3_R2.fastq.gz, strandedness:reverse]\n",
      "[sample:CONTROL_REP1, fastq_1:fq_4_R1.fastq.gz, fastq_2:fq_4_R2.fastq.gz, strandedness:auto]\n"
     ]
    }
   ],
   "source": [
    "# Task 1 - Read in the samplesheet.\n",
    "\n",
    "!nextflow run advanced_channel_operations.nf --step 1"
   ]
  },
  {
   "cell_type": "code",
   "execution_count": 44,
   "metadata": {},
   "outputs": [
    {
     "name": "stdout",
     "output_type": "stream",
     "text": [
      "\n",
      "\u001b[1m\u001b[38;5;232m\u001b[48;5;43m N E X T F L O W \u001b[0;2m  ~  \u001b[mversion 25.04.7\u001b[m\n",
      "\u001b[K\n",
      "Launching\u001b[35m `advanced_channel_operations.nf` \u001b[0;2m[\u001b[0;1;36mdisturbed_faggin\u001b[0;2m] DSL2 - \u001b[36mrevision: \u001b[0;36m5d2f638e40\u001b[m\n",
      "\u001b[K\n",
      "[[id:CONTROL_REP1, strandedness:auto], [fq_1_R1.fastq.gz, fq_1_R2.fastq.gz]]\n",
      "[[id:CONTROL_REP2, strandedness:forward], [fq_2_R1.fastq.gz, fq_2_R2.fastq.gz]]\n",
      "[[id:CONTROL_REP3, strandedness:reverse], [fq_3_R1.fastq.gz, fq_3_R2.fastq.gz]]\n",
      "[[id:CONTROL_REP1, strandedness:auto], [fq_4_R1.fastq.gz, fq_4_R2.fastq.gz]]\n"
     ]
    }
   ],
   "source": [
    "# Task 2 - Read in the samplesheet and create a meta-map with all metadata and another list with the filenames ([[metadata_1 : metadata_1, ...], [fastq_1, fastq_2]]).\n",
    "#          Set the output to a new channel \"in_ch\" and view the channel. YOU WILL NEED TO COPY AND PASTE THIS CODE INTO SOME OF THE FOLLOWING TASKS (sorry for that).\n",
    "\n",
    "!nextflow run advanced_channel_operations.nf --step 2"
   ]
  },
  {
   "cell_type": "code",
   "execution_count": 46,
   "metadata": {},
   "outputs": [
    {
     "name": "stdout",
     "output_type": "stream",
     "text": [
      "\n",
      "\u001b[1m\u001b[38;5;232m\u001b[48;5;43m N E X T F L O W \u001b[0;2m  ~  \u001b[mversion 25.04.7\u001b[m\n",
      "\u001b[K\n",
      "Launching\u001b[35m `advanced_channel_operations.nf` \u001b[0;2m[\u001b[0;1;36mfervent_baekeland\u001b[0;2m] DSL2 - \u001b[36mrevision: \u001b[0;36m633458b4d3\u001b[m\n",
      "\u001b[K\n",
      "FORWARD: [[id:CONTROL_REP2, strandedness:forward], [fq_2_R1.fastq.gz, fq_2_R2.fastq.gz]]\n",
      "AUTO: [[id:CONTROL_REP1, strandedness:auto], [fq_1_R1.fastq.gz, fq_1_R2.fastq.gz]]\n",
      "REVERSE: [[id:CONTROL_REP3, strandedness:reverse], [fq_3_R1.fastq.gz, fq_3_R2.fastq.gz]]\n",
      "AUTO: [[id:CONTROL_REP1, strandedness:auto], [fq_4_R1.fastq.gz, fq_4_R2.fastq.gz]]\n"
     ]
    }
   ],
   "source": [
    "# Task 3 - Now we assume that we want to handle different \"strandedness\" values differently. \n",
    "\n",
    "!nextflow run advanced_channel_operations.nf --step 3 -dump-channels"
   ]
  },
  {
   "cell_type": "code",
   "execution_count": 51,
   "metadata": {},
   "outputs": [
    {
     "name": "stdout",
     "output_type": "stream",
     "text": [
      "\n",
      "\u001b[1m\u001b[38;5;232m\u001b[48;5;43m N E X T F L O W \u001b[0;2m  ~  \u001b[mversion 25.04.7\u001b[m\n",
      "\u001b[K\n",
      "Launching\u001b[35m `advanced_channel_operations.nf` \u001b[0;2m[\u001b[0;1;36mspontaneous_hugle\u001b[0;2m] DSL2 - \u001b[36mrevision: \u001b[0;36mb426814e42\u001b[m\n",
      "\u001b[K\n",
      "SAMPLE: CONTROL_REP1, STRANDEDNESS: auto -> FILES: [[fq_1_R1.fastq.gz, fq_1_R2.fastq.gz], [fq_4_R1.fastq.gz, fq_4_R2.fastq.gz]]\n",
      "SAMPLE: CONTROL_REP2, STRANDEDNESS: forward -> FILES: [[fq_2_R1.fastq.gz, fq_2_R2.fastq.gz]]\n",
      "SAMPLE: CONTROL_REP3, STRANDEDNESS: reverse -> FILES: [[fq_3_R1.fastq.gz, fq_3_R2.fastq.gz]]\n"
     ]
    }
   ],
   "source": [
    "# Task 4 - Group together all files with the same sample-id and strandedness value.\n",
    "\n",
    "!nextflow run advanced_channel_operations.nf --step 4"
   ]
  },
  {
   "cell_type": "markdown",
   "metadata": {},
   "source": [
    "## It's finally time to link processes and channels with each other"
   ]
  },
  {
   "cell_type": "markdown",
   "metadata": {},
   "source": [
    "Please go to the file $\\texttt{link\\_p\\_c.nf}$"
   ]
  },
  {
   "cell_type": "code",
   "execution_count": 54,
   "metadata": {},
   "outputs": [
    {
     "name": "stdout",
     "output_type": "stream",
     "text": [
      "-rw-r--r--@ 1 sophiag  staff  78 Oct  2 14:01 samplesheet_2.csv\n"
     ]
    }
   ],
   "source": [
    "!ls -la samplesheet_2.csv"
   ]
  },
  {
   "cell_type": "code",
   "execution_count": 57,
   "metadata": {},
   "outputs": [
    {
     "name": "stdout",
     "output_type": "stream",
     "text": [
      "\n",
      "\u001b[1m\u001b[38;5;232m\u001b[48;5;43m N E X T F L O W \u001b[0;2m  ~  \u001b[mversion 25.04.7\u001b[m\n",
      "\u001b[K\n",
      "Launching\u001b[35m `link_p_c.nf` \u001b[0;2m[\u001b[0;1;36mvoluminous_maxwell\u001b[0;2m] DSL2 - \u001b[36mrevision: \u001b[0;36mff463e58b6\u001b[m\n",
      "\u001b[K\n",
      "\u001b[2m[\u001b[0;34m-        \u001b[0;2m] \u001b[0;2m\u001b[mSPLITLETTERS   -\u001b[K\n",
      "\u001b[2m[\u001b[0;34m-        \u001b[0;2m] \u001b[0;2m\u001b[mCONVERTTOUPPER -\u001b[K\n",
      "\u001b[3A\n",
      "\u001b[2mexecutor >  local (2)\u001b[m\u001b[K\n",
      "\u001b[2m[\u001b[0;34mea/d38686\u001b[0;2m] \u001b[0;2m\u001b[mSPLITLETTERS\u001b[33;2m (\u001b[0;33m1\u001b[2m)\u001b[m\u001b[2m |\u001b[m 0 of 2\u001b[K\n",
      "\u001b[2m[\u001b[0;34m-        \u001b[0;2m] \u001b[0;2m\u001b[mCONVERTTOUPPER   -\u001b[K\n",
      "\u001b[4A\n",
      "\u001b[2mexecutor >  local (4)\u001b[m\u001b[K\n",
      "\u001b[2m[\u001b[0;34mea/d38686\u001b[0;2m] \u001b[0;2m\u001b[mSPLITLETTERS\u001b[33;2m (\u001b[0;33m1\u001b[2m)\u001b[m  \u001b[2m |\u001b[m 2 of 2\u001b[32m ✔\u001b[m\u001b[K\n",
      "\u001b[2m[\u001b[0;34m34/f58fa6\u001b[0;2m] \u001b[0;2m\u001b[mCONVERTTOUPPER\u001b[33;2m (\u001b[0;33m7\u001b[2m)\u001b[m\u001b[2m |\u001b[m 0 of 11\u001b[K\n",
      "\u001b[4A\n",
      "\u001b[2mexecutor >  local (9)\u001b[m\u001b[K\n",
      "\u001b[2m[\u001b[0;34mea/d38686\u001b[0;2m] \u001b[0;2m\u001b[mSPLITLETTERS\u001b[33;2m (\u001b[0;33m1\u001b[2m)\u001b[m  \u001b[2m |\u001b[m 2 of 2\u001b[32m ✔\u001b[m\u001b[K\n",
      "\u001b[2m[\u001b[0;34m8f/8acc5d\u001b[0;2m] \u001b[0;2m\u001b[mCONVERTTOUPPER\u001b[33;2m (\u001b[0;33m8\u001b[2m)\u001b[m\u001b[2m |\u001b[m 4 of 11\u001b[K\n",
      "\u001b[4A\n",
      "\u001b[2mexecutor >  local (13)\u001b[m\u001b[K\n",
      "\u001b[2m[\u001b[0;34mea/d38686\u001b[0;2m] \u001b[0;2m\u001b[mSPLITLETTERS\u001b[33;2m (\u001b[0;33m1\u001b[2m)\u001b[m   \u001b[2m |\u001b[m 2 of 2\u001b[32m ✔\u001b[m\u001b[K\n",
      "\u001b[2m[\u001b[0;34me4/fb469b\u001b[0;2m] \u001b[0;2m\u001b[mCONVERTTOUPPER\u001b[33;2m (\u001b[0;33m11\u001b[2m)\u001b[m\u001b[2m |\u001b[m 11 of 11\u001b[32m ✔\u001b[m\u001b[K\n",
      "\u001b[4A\n",
      "\u001b[2mexecutor >  local (13)\u001b[m\u001b[K\n",
      "\u001b[2m[\u001b[0;34mea/d38686\u001b[0;2m] \u001b[0;2m\u001b[mSPLITLETTERS\u001b[33;2m (\u001b[0;33m1\u001b[2m)\u001b[m   \u001b[2m |\u001b[m 2 of 2\u001b[32m ✔\u001b[m\u001b[K\n",
      "\u001b[2m[\u001b[0;34me4/fb469b\u001b[0;2m] \u001b[0;2m\u001b[mCONVERTTOUPPER\u001b[33;2m (\u001b[0;33m11\u001b[2m)\u001b[m\u001b[2m |\u001b[m 11 of 11\u001b[32m ✔\u001b[m\u001b[K\n",
      "\n"
     ]
    }
   ],
   "source": [
    "!nextflow run link_p_c.nf"
   ]
  },
  {
   "cell_type": "markdown",
   "metadata": {},
   "source": [
    "### Give a list with the paths to the chunk files"
   ]
  },
  {
   "cell_type": "code",
   "execution_count": 58,
   "metadata": {},
   "outputs": [
    {
     "name": "stdout",
     "output_type": "stream",
     "text": [
      "results/c_w_chunk_aaa.txt\n",
      "results/c_w_chunk_aaa_upper.txt\n",
      "results/c_w_chunk_aab.txt\n",
      "results/c_w_chunk_aab_upper.txt\n",
      "results/c_w_chunk_aac.txt\n",
      "results/c_w_chunk_aac_upper.txt\n",
      "results/c_w_chunk_aad.txt\n",
      "results/c_w_chunk_aad_upper.txt\n",
      "results/c_w_chunk_aae.txt\n",
      "results/c_w_chunk_aae_upper.txt\n",
      "results/c_w_chunk_aaf.txt\n",
      "results/c_w_chunk_aaf_upper.txt\n",
      "results/c_w_chunk_aag.txt\n",
      "results/c_w_chunk_aag_upper.txt\n",
      "results/c_w_chunk_aah.txt\n",
      "results/c_w_chunk_aah_upper.txt\n",
      "results/h_w_chunk_aaa.txt\n",
      "results/h_w_chunk_aaa_upper.txt\n",
      "results/h_w_chunk_aab.txt\n",
      "results/h_w_chunk_aab_upper.txt\n",
      "results/h_w_chunk_aac.txt\n",
      "results/h_w_chunk_aac_upper.txt\n",
      "results/null_chunk_aaa.txt\n",
      "results/null_chunk_aaa_upper.txt\n",
      "results/null_chunk_aab.txt\n",
      "results/null_chunk_aab_upper.txt\n"
     ]
    }
   ],
   "source": [
    "!find results/ -name \"*_chunk_*.txt\" -type f | sort"
   ]
  },
  {
   "cell_type": "markdown",
   "metadata": {},
   "source": [
    "### Why was CONVERTTOUPPER run so often?"
   ]
  },
  {
   "cell_type": "markdown",
   "metadata": {},
   "source": [
    "because of parallelization and data flow architecture in Nextflow. "
   ]
  }
 ],
 "metadata": {
  "kernelspec": {
   "display_name": "cw_course",
   "language": "python",
   "name": "python3"
  },
  "language_info": {
   "codemirror_mode": {
    "name": "ipython",
    "version": 3
   },
   "file_extension": ".py",
   "mimetype": "text/x-python",
   "name": "python",
   "nbconvert_exporter": "python",
   "pygments_lexer": "ipython3",
   "version": "3.13.5"
  }
 },
 "nbformat": 4,
 "nbformat_minor": 2
}
